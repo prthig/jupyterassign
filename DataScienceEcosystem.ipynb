{
 "cells": [
  {
   "cell_type": "markdown",
   "id": "8410989b-98d9-4316-b817-d0f2a7c661aa",
   "metadata": {},
   "source": [
    "# Data Science Tools and Ecosystem"
   ]
  },
  {
   "cell_type": "markdown",
   "id": "cf102b68-39fc-4715-8e6e-d0ecb9d1c25c",
   "metadata": {},
   "source": [
    "In this notebook, various Data Science Tools are being discussed as an overview"
   ]
  },
  {
   "cell_type": "markdown",
   "id": "1918b5b1-dcba-436f-b3b4-a76cce93478f",
   "metadata": {},
   "source": [
    "These are the popular languages Data Scientists utilize:\n",
    "### Data Science Languages\n",
    "1. Python\n",
    "2. SQL\n",
    "3. RStudio"
   ]
  },
  {
   "cell_type": "markdown",
   "id": "820c4ee9-5efa-4dc1-88a3-ca3d471621a0",
   "metadata": {},
   "source": [
    "These are the libraries commonly used by Data Scientists:\n",
    "### Data Science Libraries\n",
    "1. TensorFlow\n",
    "2. SciPy\n",
    "3. NumPy\n",
    "4. Pandas"
   ]
  },
  {
   "cell_type": "markdown",
   "id": "766e6719-cef9-49db-abb4-82c9346fbda8",
   "metadata": {},
   "source": [
    "| Data Science Tools |\n",
    "| --- |\n",
    "| Open Source Tools | Commercial Tools | Cloud Based Tools |\n",
    "| --- | --- | --- |\n",
    "| MySQL | Oracle | Watson Studio |\n",
    "| Ceph | SQL Server | Amazon DynamoDB |\n",
    "| Cassandra | IBM DB2 | Azure Machine Learning |\n",
    "| CouchDB | Informatica | Cloudant |\n",
    "| mongoDB | Talend | IBM Data Refinery |\n",
    "| hadoop HDFS | IBM InfoSphere DataStage | IBM Watson Machine Learning |\n",
    "| elasticsearch | Tableau | H20.ai |"
   ]
  },
  {
   "cell_type": "markdown",
   "id": "5c4a98c4-0622-4ca5-bc1a-8cb3183a5067",
   "metadata": {},
   "source": [
    "### Below are a few examples of evaluating arithmetic expressions in Python. "
   ]
  },
  {
   "cell_type": "markdown",
   "id": "ce8fdac3-ce78-43c8-a665-ed6222fc8723",
   "metadata": {},
   "source": [
    "To solve this expression, multiply the integers in the parenthesis and then add"
   ]
  },
  {
   "cell_type": "code",
   "execution_count": 6,
   "id": "49403862-28f5-421c-9e74-dbf617e42fb3",
   "metadata": {},
   "outputs": [
    {
     "data": {
      "text/plain": [
       "17"
      ]
     },
     "execution_count": 6,
     "metadata": {},
     "output_type": "execute_result"
    }
   ],
   "source": [
    "(3*4)+5"
   ]
  },
  {
   "cell_type": "markdown",
   "id": "2c80fb02-a101-4dae-9aa0-7a8b27fdd739",
   "metadata": {},
   "source": [
    "This operation will covert 200 minutes to hours via dividing the minute value by 60."
   ]
  },
  {
   "cell_type": "code",
   "execution_count": 7,
   "id": "0182c457-09b4-4586-8917-51abb1d9aa9e",
   "metadata": {},
   "outputs": [
    {
     "data": {
      "text/plain": [
       "3.3333333333333335"
      ]
     },
     "execution_count": 7,
     "metadata": {},
     "output_type": "execute_result"
    }
   ],
   "source": [
    "x= 200\n",
    "x/60"
   ]
  },
  {
   "cell_type": "markdown",
   "id": "ec7b8933-5090-4acc-856d-2a6e43787adb",
   "metadata": {},
   "source": [
    "**Objectives:**\n",
    "- List popu"
   ]
  }
 ],
 "metadata": {
  "kernelspec": {
   "display_name": "Python",
   "language": "python",
   "name": "conda-env-python-py"
  },
  "language_info": {
   "codemirror_mode": {
    "name": "ipython",
    "version": 3
   },
   "file_extension": ".py",
   "mimetype": "text/x-python",
   "name": "python",
   "nbconvert_exporter": "python",
   "pygments_lexer": "ipython3",
   "version": "3.7.12"
  }
 },
 "nbformat": 4,
 "nbformat_minor": 5
}
